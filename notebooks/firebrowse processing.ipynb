{
 "cells": [
  {
   "cell_type": "code",
   "execution_count": 1,
   "id": "9c20dc9b",
   "metadata": {},
   "outputs": [],
   "source": [
    "import pandas as pd\n",
    "import numpy as np\n",
    "from copy import deepcopy"
   ]
  },
  {
   "cell_type": "code",
   "execution_count": 5,
   "id": "75eba181",
   "metadata": {},
   "outputs": [],
   "source": [
    "cancer=\"KIRC\"\n",
    "base_path=\"/home/colombelli/Documents/datasets/graph-omics/\""
   ]
  },
  {
   "cell_type": "code",
   "execution_count": 40,
   "id": "6a1a2784",
   "metadata": {},
   "outputs": [],
   "source": [
    "def load_data(base_path):\n",
    "    gene = pd.read_csv(base_path + '.uncv2.mRNAseq_RSEM_all.txt', sep='\\t', index_col=0)\n",
    "    mirna = pd.read_csv(base_path + '.miRseq_mature_RPM.txt', sep='\\t', index_col=0)\n",
    "    meth = pd.read_csv(base_path + '.meth.by_mean.data.txt', sep='\\t', index_col=0)\n",
    "    return gene.T.iloc[:, 1:].apply(pd.to_numeric), mirna.T.apply(pd.to_numeric), meth.T.iloc[:, 1:].apply(pd.to_numeric)\n",
    "\n",
    "def log2(gene, mirna):\n",
    "    return np.log2(gene+1), np.log2(mirna+1)\n",
    "\n",
    "\n",
    "# Currently the meadian of the vial values are used as the sample value\n",
    "def process_vial(df, idx):\n",
    "    new_idx=[]\n",
    "    for i in idx:\n",
    "        if len(i.split('-')[-1]) > 2:\n",
    "            new_idx.append(i[:-1])\n",
    "    \n",
    "    df['index'] = new_idx # Possibly, there will be repeated indexes => mean the value\n",
    "    return df.groupby(['index']).mean()\n",
    "    \n",
    "\n",
    "def process_indexes(df):\n",
    "    # Get only the following infos from barcode: \n",
    "    # Project-TSS-Participant-Sample_Vial (Vial if present, otherwise only sample)\n",
    "    idx = ['-'.join(i.split('-')[:4]) for i in df.index]\n",
    "\n",
    "    # Check if idx has only unique elements\n",
    "    if(len(set(idx)) != len(idx)):\n",
    "        raise(Exception(\"Indexes processing resulted in colliding indexes! Aborting...\"))\n",
    "        \n",
    "    # Check if vial info is present:\n",
    "    for i in idx:\n",
    "        if len(i.split('-')[-1]) > 2: # It is present\n",
    "            return process_vial(df, idx)\n",
    "    \n",
    "    df.index = idx\n",
    "    return df\n",
    "\n",
    "\n",
    "def get_classes(df):\n",
    "    \n",
    "    normal = []\n",
    "    tumoral = []\n",
    "    \n",
    "    for barcode in df.index:\n",
    "        splt = barcode.split('-')\n",
    "        patient_id = '-'.join(splt[:-1]).lower()\n",
    "        sample_type = splt[-1]\n",
    "        \n",
    "        if int(sample_type) <= 9: # Tumoral sample\n",
    "            tumoral.append(barcode)\n",
    "            \n",
    "        elif int(sample_type) <= 19:  # Normal sample\n",
    "            normal.append(barcode)\n",
    "            \n",
    "        # else: control sample -> ignore\n",
    "        \n",
    "    return normal, tumoral\n",
    "\n",
    "    \n",
    "\n",
    "def build_class_columns(df, normal, tumoral):\n",
    "    class_col=[]\n",
    "    for idx in df.index:\n",
    "        if idx in normal:\n",
    "            class_col.append('0')\n",
    "        else:\n",
    "            class_col.append('1')\n",
    "            \n",
    "    df['class'] = class_col\n",
    "    return df\n",
    "\n",
    "\n",
    "def get_final_dfs(gene_df, mirna_df, meth_df):\n",
    "    \n",
    "    gene = deepcopy(gene_df)\n",
    "    mirna = deepcopy(mirna_df)\n",
    "    meth = deepcopy(meth_df)\n",
    "    \n",
    "    gene, mirna = log2(gene, mirna)\n",
    "    print(\"Processing gene expression...\")\n",
    "    gene = process_indexes(gene)\n",
    "    print(\"\\nProcessing miRNA expression...\")\n",
    "    mirna = process_indexes(mirna)\n",
    "    print(\"\\nProcessing methylation...\")\n",
    "    meth = process_indexes(meth)\n",
    "\n",
    "    print()\n",
    "    normal, tumoral = get_classes(gene)\n",
    "\n",
    "    gene = build_class_columns(gene, normal, tumoral)\n",
    "    mirna = build_class_columns(mirna, normal, tumoral)\n",
    "    meth = build_class_columns(meth, normal, tumoral)\n",
    "    return gene, mirna, meth\n",
    "    \n",
    "\n",
    "def save_df(df, base_path, name):\n",
    "    df.to_csv(base_path+name+\".csv\")\n",
    "    return"
   ]
  },
  {
   "cell_type": "code",
   "execution_count": 42,
   "id": "be8a3105",
   "metadata": {
    "collapsed": true
   },
   "outputs": [
    {
     "name": "stderr",
     "output_type": "stream",
     "text": [
      "/home/colombelli/.pyenv/versions/3.6.13/lib/python3.6/site-packages/IPython/core/interactiveshell.py:3263: DtypeWarning: Columns (1,2,3,4,5,6,7,8,9,10,11,12,13,14,15,16,17,18,19,20,21,22,23,24,25,26,27,28,29,30,31,32,33,34,35,36,37,38,39,40,41,42,43,44,45,46,47,48,49,50,51,52,53,54,55,56,57,58,59,60,61,62,63,64,65,66,67,68,69,70,71,72,73,74,75,76,77,78,79,80,81,82,83,84,85,86,87,88,89,90,91,92,93,94,95,96,97,98,99,100,101,102,103,104,105,106,107,108,109,110,111,112,113,114,115,116,117,118,119,120,121,122,123,124,125,126,127,128,129,130,131,132,133,134,135,136,137,138,139,140,141,142,143,144,145,146,147,148,149,150,151,152,153,154,155,156,157,158,159,160,161,162,163,164,165,166,167,168,169,170,171,172,173,174,175,176,177,178,179,180,181,182,183,184,185,186,187,188,189,190,191,192,193,194,195,196,197,198,199,200,201,202,203,204,205,206,207,208,209,210,211,212,213,214,215,216,217,218,219,220,221,222,223,224,225,226,227,228,229,230,231,232,233,234,235,236,237,238,239,240,241,242,243,244,245,246,247,248,249,250,251,252,253,254,255,256,257,258,259,260,261,262,263,264,265,266,267,268,269,270,271,272,273,274,275,276,277,278,279,280,281,282,283,284,285,286,287,288,289,290,291,292,293,294,295,296,297,298,299,300,301,302,303,304,305,306,307,308,309,310,311,312,313,314,315,316,317,318,319,320,321,322,323,324,325,326,327,328,329,330,331,332,333,334,335,336,337,338,339,340,341,342,343,344,345,346,347,348,349,350,351,352,353,354,355,356,357,358,359,360,361,362,363,364,365,366,367,368,369,370,371,372,373,374,375,376,377,378,379,380,381,382,383,384,385,386,387,388,389,390,391,392,393,394,395,396,397,398,399,400,401,402,403,404,405,406,407,408,409,410,411,412,413,414,415,416,417,418,419,420,421,422,423,424,425,426,427,428,429,430,431,432,433,434,435,436,437,438,439,440,441,442,443,444,445,446,447,448,449,450,451,452,453,454,455,456,457,458,459,460,461,462,463,464,465,466,467,468,469,470,471,472,473,474,475,476,477,478,479,480,481,482,483,484,485,486,487,488,489,490,491,492,493,494,495,496,497,498,499,500,501,502,503,504,505,506,507,508,509,510,511,512,513,514,515,516,517,518,519,520,521,522,523,524,525,526,527,528,529,530,531,532,533,534,535,536,537,538,539,540,541,542,543,544,545,546,547,548,549,550,551,552,553,554,555,556,557,558,559,560,561,562,563,564,565,566,567,568,569,570,571,572,573,574,575,576,577,578,579,580,581,582,583,584,585,586,587,588,589,590,591,592,593,594,595,596,597,598,599,600,601,602,603,604,605,606) have mixed types.Specify dtype option on import or set low_memory=False.\n",
      "  if (await self.run_code(code, result,  async_=asy)):\n",
      "/home/colombelli/.pyenv/versions/3.6.13/lib/python3.6/site-packages/IPython/core/interactiveshell.py:3263: DtypeWarning: Columns (1,2,3,4,5,6,7,8,9,10,11,12,13,14,15,16,17,18,19,20,21,22,23,24,25,26,27,28,29,30,31,32,33,34,35,36,37,38,39,40,41,42,43,44,45,46,47,48,49,50,51,52,53,54,55,56,57,58,59,60,61,62,63,64,65,66,67,68,69,70,71,72,73,74,75,76,77,78,79,80,81,82,83,84,85,86,87,88,89,90,91,92,93,94,95,96,97,98,99,100,101,102,103,104,105,106,107,108,109,110,111,112,113,114,115,116,117,118,119,120,121,122,123,124,125,126,127,128,129,130,131,132,133,134,135,136,137,138,139,140,141,142,143,144,145,146,147,148,149,150,151,152,153,154,155,156,157,158,159,160,161,162,163,164,165,166,167,168,169,170,171,172,173,174,175,176,177,178,179,180,181,182,183,184,185,186,187,188,189,190,191,192,193,194,195,196,197,198,199,200,201,202,203,204,205,206,207,208,209,210,211,212,213,214,215,216,217,218,219,220,221,222,223,224,225,226,227,228,229,230,231,232,233,234,235,236,237,238,239,240,241,242,243,244,245,246,247,248,249,250,251,252,253,254,255,256,257,258,259,260,261,262,263,264,265,266,267,268,269,270,271,272,273,274,275,276,277,278,279,280,281,282,283,284,285,286,287,288,289,290,291,292,293,294,295,296,297,298,299,300,301,302,303,304,305,306,307,308,309,310,311,312,313,314,315,316,317,318,319,320,321,322,323,324,325,326,327,328,329,330,331,332,333,334,335,336,337,338,339,340,341,342,343,344,345,346,347,348,349,350,351,352,353,354,355,356,357,358,359,360,361,362,363,364,365,366,367,368,369,370,371,372,373,374,375,376,377,378,379,380,381,382,383,384,385,386,387,388,389,390,391,392,393,394,395,396,397,398,399,400,401,402,403,404,405,406,407,408,409,410,411,412,413,414,415,416,417,418,419,420,421,422,423,424,425,426,427,428,429,430,431,432,433,434,435,436,437,438,439,440,441,442,443,444,445,446,447,448,449,450,451,452,453,454,455,456,457,458,459,460,461,462,463,464,465,466,467,468,469,470,471,472,473,474,475,476,477,478,479,480) have mixed types.Specify dtype option on import or set low_memory=False.\n",
      "  if (await self.run_code(code, result,  async_=asy)):\n"
     ]
    }
   ],
   "source": [
    "path=base_path+cancer+\"/\"\n",
    "gene, mirna, meth = load_data(path+cancer)"
   ]
  },
  {
   "cell_type": "code",
   "execution_count": 43,
   "id": "ca52c8b7",
   "metadata": {},
   "outputs": [
    {
     "name": "stdout",
     "output_type": "stream",
     "text": [
      "Processing gene expression...\n",
      "\n",
      "Processing miRNA expression...\n",
      "\n",
      "Processing methylation...\n",
      "\n",
      "\n",
      "\n",
      "Saving dataframes...\n"
     ]
    }
   ],
   "source": [
    "f_gene, f_mirna, f_meth = get_final_dfs(gene,mirna,meth)\n",
    "print(\"\\n\\nSaving dataframes...\")\n",
    "save_df(f_gene, path, \"gene_proc\")\n",
    "save_df(f_mirna, path, \"mirna_proc\")\n",
    "save_df(f_meth, path, \"meth_proc\")"
   ]
  },
  {
   "cell_type": "code",
   "execution_count": 49,
   "id": "ba0287be",
   "metadata": {},
   "outputs": [],
   "source": [
    "def process_clin_df(base_path, save_name):\n",
    "    clin = pd.read_csv(base_path + '.clin.merged.picked.txt', sep='\\t', index_col=0).T\n",
    "    new_idxs = [idx.upper() for idx in clin.index]\n",
    "    clin.index = new_idxs\n",
    "    clin.to_csv(base_path+save_name+\".csv\")\n",
    "    return clin\n",
    "\n",
    "clin = process_clin_df(path+cancer, \"clin_proc\")"
   ]
  },
  {
   "cell_type": "code",
   "execution_count": null,
   "id": "857565f1",
   "metadata": {},
   "outputs": [],
   "source": []
  }
 ],
 "metadata": {
  "kernelspec": {
   "display_name": "Python 3",
   "language": "python",
   "name": "python3"
  },
  "language_info": {
   "codemirror_mode": {
    "name": "ipython",
    "version": 3
   },
   "file_extension": ".py",
   "mimetype": "text/x-python",
   "name": "python",
   "nbconvert_exporter": "python",
   "pygments_lexer": "ipython3",
   "version": "3.6.13"
  }
 },
 "nbformat": 4,
 "nbformat_minor": 5
}

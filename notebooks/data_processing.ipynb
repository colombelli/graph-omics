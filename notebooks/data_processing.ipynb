{
 "cells": [
  {
   "cell_type": "markdown",
   "id": "356c316b",
   "metadata": {},
   "source": [
    "## Data processing notebook\n",
    "\n",
    "For each cancer cohort (ex: KIRC, BRCA, LUAD, etc), download the data:\n",
    "- miRseq_Preprocess\n",
    "- illuminahiseq_rnaseqv2-RSEM_genes_normalized\n",
    "- verify which methylation data should be downloaded"
   ]
  },
  {
   "cell_type": "code",
   "execution_count": null,
   "id": "060f52b2",
   "metadata": {},
   "outputs": [],
   "source": []
  }
 ],
 "metadata": {
  "kernelspec": {
   "display_name": "Python 3",
   "language": "python",
   "name": "python3"
  },
  "language_info": {
   "codemirror_mode": {
    "name": "ipython",
    "version": 3
   },
   "file_extension": ".py",
   "mimetype": "text/x-python",
   "name": "python",
   "nbconvert_exporter": "python",
   "pygments_lexer": "ipython3",
   "version": "3.6.13"
  }
 },
 "nbformat": 4,
 "nbformat_minor": 5
}

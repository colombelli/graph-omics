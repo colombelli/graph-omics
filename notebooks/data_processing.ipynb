{
 "cells": [
  {
   "cell_type": "markdown",
   "id": "356c316b",
   "metadata": {},
   "source": [
    "## Data processing notebook\n",
    "\n",
    "For each cancer cohort (ex: KIRC, BRCA, LUAD, etc), download the data:\n",
    "- mRNAseq_Preprocess\n",
    "- miR-seq_Mature_Preprocess\n",
    "- Methylation_Preprocess\n",
    "\n",
    "Extract the files.\n",
    "For each .tar.gz only one file will be used:\n",
    "- mRNAseq_Preprocess: COHORT.uncv2.mRNAseq_RSEM_all.txt\n",
    "- miR-seq_Mature_Preprocess: COHORT.miRseq_mature_RPM.txt\n",
    "- Methylation_Preprocess: COHORT.meth.by_mean.data.txt"
   ]
  },
  {
   "cell_type": "code",
   "execution_count": 19,
   "id": "a549532b",
   "metadata": {},
   "outputs": [],
   "source": [
    "import pandas as pd\n",
    "import numpy as np"
   ]
  },
  {
   "cell_type": "code",
   "execution_count": 26,
   "id": "060f52b2",
   "metadata": {},
   "outputs": [],
   "source": [
    "base = \"/home/colombelli/Documents/datasets/pankidney firebrowse/\"\n",
    "\n",
    "def load_data(base):\n",
    "    gene = pd.read_csv(base + 'mRNAseq_RPKM.txt', sep='\\t', index_col=0)\n",
    "    mirna = pd.read_csv(base + 'miRseq_mature_RPM.txt', sep='\\t', index_col=0)\n",
    "    meth = pd.read_csv(base + 'meth_mean.txt', sep='\\t', index_col=0)\n",
    "    clin = pd.read_csv(base + 'clin.txt', sep='\\t', index_col=0)\n",
    "    return gene.T, mirna.T, meth.T.drop('Composite Element REF', axis=1), clin\n",
    "\n",
    "def log2(gene, mirna):\n",
    "    return np.log2(gene+1), np.log2(mirna+1)"
   ]
  },
  {
   "cell_type": "code",
   "execution_count": 14,
   "id": "d95929fa",
   "metadata": {},
   "outputs": [],
   "source": [
    "gene, mirna, meth, clin = load_data(base)"
   ]
  },
  {
   "cell_type": "code",
   "execution_count": 27,
   "id": "1b9a640d",
   "metadata": {},
   "outputs": [],
   "source": [
    "gene, mirna = log2(gene, mirna)"
   ]
  },
  {
   "cell_type": "code",
   "execution_count": null,
   "id": "189ea965",
   "metadata": {},
   "outputs": [],
   "source": []
  }
 ],
 "metadata": {
  "kernelspec": {
   "display_name": "Python 3",
   "language": "python",
   "name": "python3"
  },
  "language_info": {
   "codemirror_mode": {
    "name": "ipython",
    "version": 3
   },
   "file_extension": ".py",
   "mimetype": "text/x-python",
   "name": "python",
   "nbconvert_exporter": "python",
   "pygments_lexer": "ipython3",
   "version": "3.6.13"
  }
 },
 "nbformat": 4,
 "nbformat_minor": 5
}
